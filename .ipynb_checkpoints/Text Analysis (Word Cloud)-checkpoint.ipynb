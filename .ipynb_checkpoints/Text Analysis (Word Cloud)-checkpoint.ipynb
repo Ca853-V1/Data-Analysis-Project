{
 "cells": [
  {
   "cell_type": "code",
   "execution_count": 1,
   "id": "1b1cd69e",
   "metadata": {},
   "outputs": [],
   "source": [
    "text = open(\"t_asv.csv\", \"r\")\n",
    "text = ' '.join([i for i in text])  \n",
    "text = text.replace(\",\", \" \") "
   ]
  },
  {
   "cell_type": "code",
   "execution_count": 3,
   "id": "bd10490b",
   "metadata": {},
   "outputs": [],
   "source": [
    "text = text.lower()"
   ]
  },
  {
   "cell_type": "code",
   "execution_count": 4,
   "id": "1b31c8d9",
   "metadata": {},
   "outputs": [],
   "source": [
    "for i in '`~!@#$%^&*()-_=+[]{}\\/?0123456789,.<>'':;\"':\n",
    "    text = text.replace(i, '')"
   ]
  },
  {
   "cell_type": "code",
   "execution_count": 5,
   "id": "2fe51ad7",
   "metadata": {},
   "outputs": [],
   "source": [
    "text = text.replace('\\n', '')"
   ]
  },
  {
   "cell_type": "code",
   "execution_count": 7,
   "id": "23c609e9",
   "metadata": {},
   "outputs": [],
   "source": [
    "word = text.split(\" \")"
   ]
  },
  {
   "cell_type": "code",
   "execution_count": 8,
   "id": "9eb4425e",
   "metadata": {},
   "outputs": [],
   "source": [
    "vocab = list(set(word))"
   ]
  },
  {
   "cell_type": "code",
   "execution_count": 10,
   "id": "994a5e31",
   "metadata": {},
   "outputs": [
    {
     "data": {
      "text/plain": [
       "13707"
      ]
     },
     "execution_count": 10,
     "metadata": {},
     "output_type": "execute_result"
    }
   ],
   "source": [
    "len(vocab)"
   ]
  },
  {
   "cell_type": "code",
   "execution_count": 11,
   "id": "9e8802af",
   "metadata": {},
   "outputs": [],
   "source": [
    "word_2_int = {}\n",
    "int_2_word = {}\n",
    "var = 0\n",
    "for i in vocab:\n",
    "    word_2_int[i] = var\n",
    "    int_2_word[var] = i\n",
    "    var += 1"
   ]
  },
  {
   "cell_type": "code",
   "execution_count": 14,
   "id": "3f4c5e8a",
   "metadata": {},
   "outputs": [
    {
     "data": {
      "text/plain": [
       "15"
      ]
     },
     "execution_count": 14,
     "metadata": {},
     "output_type": "execute_result"
    }
   ],
   "source": [
    "word_2_int['egyptians']"
   ]
  },
  {
   "cell_type": "code",
   "execution_count": 15,
   "id": "77728b86",
   "metadata": {},
   "outputs": [
    {
     "data": {
      "text/plain": [
       "'forsaking'"
      ]
     },
     "execution_count": 15,
     "metadata": {},
     "output_type": "execute_result"
    }
   ],
   "source": [
    "int_2_word[8]"
   ]
  },
  {
   "cell_type": "code",
   "execution_count": null,
   "id": "70d8147d",
   "metadata": {},
   "outputs": [],
   "source": []
  }
 ],
 "metadata": {
  "kernelspec": {
   "display_name": "Python 3 (ipykernel)",
   "language": "python",
   "name": "python3"
  },
  "language_info": {
   "codemirror_mode": {
    "name": "ipython",
    "version": 3
   },
   "file_extension": ".py",
   "mimetype": "text/x-python",
   "name": "python",
   "nbconvert_exporter": "python",
   "pygments_lexer": "ipython3",
   "version": "3.9.13"
  }
 },
 "nbformat": 4,
 "nbformat_minor": 5
}
