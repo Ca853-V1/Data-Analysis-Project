{
 "cells": [
  {
   "cell_type": "code",
   "execution_count": 1,
   "id": "9a9e6efc",
   "metadata": {},
   "outputs": [],
   "source": [
    "import numpy as np\n",
    "import pandas as pd"
   ]
  },
  {
   "cell_type": "code",
   "execution_count": 2,
   "id": "b4dc87a7",
   "metadata": {},
   "outputs": [],
   "source": [
    "import requests\n",
    "url = 'https://raw.githubusercontent.com/AshishJangra27/Data-Analysis-Course-ETG/main/Data%20Analysis%20Assignment/winter.csv'\n",
    "res = requests.get(url, allow_redirects=True)\n",
    "with open('winter.csv','wb') as file:\n",
    "    file.write(res.content)\n",
    "winter = pd.read_csv('winter.csv')"
   ]
  },
  {
   "cell_type": "code",
   "execution_count": 3,
   "id": "f490d87d",
   "metadata": {},
   "outputs": [
    {
     "data": {
      "text/html": [
       "<div>\n",
       "<style scoped>\n",
       "    .dataframe tbody tr th:only-of-type {\n",
       "        vertical-align: middle;\n",
       "    }\n",
       "\n",
       "    .dataframe tbody tr th {\n",
       "        vertical-align: top;\n",
       "    }\n",
       "\n",
       "    .dataframe thead th {\n",
       "        text-align: right;\n",
       "    }\n",
       "</style>\n",
       "<table border=\"1\" class=\"dataframe\">\n",
       "  <thead>\n",
       "    <tr style=\"text-align: right;\">\n",
       "      <th></th>\n",
       "      <th>Year</th>\n",
       "      <th>City</th>\n",
       "      <th>Sport</th>\n",
       "      <th>Discipline</th>\n",
       "      <th>Athlete</th>\n",
       "      <th>Country</th>\n",
       "      <th>Gender</th>\n",
       "      <th>Event</th>\n",
       "      <th>Medal</th>\n",
       "    </tr>\n",
       "  </thead>\n",
       "  <tbody>\n",
       "    <tr>\n",
       "      <th>0</th>\n",
       "      <td>1924</td>\n",
       "      <td>Chamonix</td>\n",
       "      <td>Biathlon</td>\n",
       "      <td>Biathlon</td>\n",
       "      <td>BERTHET, G.</td>\n",
       "      <td>FRA</td>\n",
       "      <td>Men</td>\n",
       "      <td>Military Patrol</td>\n",
       "      <td>Bronze</td>\n",
       "    </tr>\n",
       "    <tr>\n",
       "      <th>1</th>\n",
       "      <td>1924</td>\n",
       "      <td>Chamonix</td>\n",
       "      <td>Biathlon</td>\n",
       "      <td>Biathlon</td>\n",
       "      <td>MANDRILLON, C.</td>\n",
       "      <td>FRA</td>\n",
       "      <td>Men</td>\n",
       "      <td>Military Patrol</td>\n",
       "      <td>Bronze</td>\n",
       "    </tr>\n",
       "    <tr>\n",
       "      <th>2</th>\n",
       "      <td>1924</td>\n",
       "      <td>Chamonix</td>\n",
       "      <td>Biathlon</td>\n",
       "      <td>Biathlon</td>\n",
       "      <td>MANDRILLON, Maurice</td>\n",
       "      <td>FRA</td>\n",
       "      <td>Men</td>\n",
       "      <td>Military Patrol</td>\n",
       "      <td>Bronze</td>\n",
       "    </tr>\n",
       "    <tr>\n",
       "      <th>3</th>\n",
       "      <td>1924</td>\n",
       "      <td>Chamonix</td>\n",
       "      <td>Biathlon</td>\n",
       "      <td>Biathlon</td>\n",
       "      <td>VANDELLE, André</td>\n",
       "      <td>FRA</td>\n",
       "      <td>Men</td>\n",
       "      <td>Military Patrol</td>\n",
       "      <td>Bronze</td>\n",
       "    </tr>\n",
       "    <tr>\n",
       "      <th>4</th>\n",
       "      <td>1924</td>\n",
       "      <td>Chamonix</td>\n",
       "      <td>Biathlon</td>\n",
       "      <td>Biathlon</td>\n",
       "      <td>AUFDENBLATTEN, Adolf</td>\n",
       "      <td>SUI</td>\n",
       "      <td>Men</td>\n",
       "      <td>Military Patrol</td>\n",
       "      <td>Gold</td>\n",
       "    </tr>\n",
       "    <tr>\n",
       "      <th>...</th>\n",
       "      <td>...</td>\n",
       "      <td>...</td>\n",
       "      <td>...</td>\n",
       "      <td>...</td>\n",
       "      <td>...</td>\n",
       "      <td>...</td>\n",
       "      <td>...</td>\n",
       "      <td>...</td>\n",
       "      <td>...</td>\n",
       "    </tr>\n",
       "    <tr>\n",
       "      <th>5765</th>\n",
       "      <td>2014</td>\n",
       "      <td>Sochi</td>\n",
       "      <td>Skiing</td>\n",
       "      <td>Snowboard</td>\n",
       "      <td>JONES, Jenny</td>\n",
       "      <td>GBR</td>\n",
       "      <td>Women</td>\n",
       "      <td>Slopestyle</td>\n",
       "      <td>Bronze</td>\n",
       "    </tr>\n",
       "    <tr>\n",
       "      <th>5766</th>\n",
       "      <td>2014</td>\n",
       "      <td>Sochi</td>\n",
       "      <td>Skiing</td>\n",
       "      <td>Snowboard</td>\n",
       "      <td>ANDERSON, Jamie</td>\n",
       "      <td>USA</td>\n",
       "      <td>Women</td>\n",
       "      <td>Slopestyle</td>\n",
       "      <td>Gold</td>\n",
       "    </tr>\n",
       "    <tr>\n",
       "      <th>5767</th>\n",
       "      <td>2014</td>\n",
       "      <td>Sochi</td>\n",
       "      <td>Skiing</td>\n",
       "      <td>Snowboard</td>\n",
       "      <td>MALTAIS, Dominique</td>\n",
       "      <td>CAN</td>\n",
       "      <td>Women</td>\n",
       "      <td>Snowboard Cross</td>\n",
       "      <td>Silver</td>\n",
       "    </tr>\n",
       "    <tr>\n",
       "      <th>5768</th>\n",
       "      <td>2014</td>\n",
       "      <td>Sochi</td>\n",
       "      <td>Skiing</td>\n",
       "      <td>Snowboard</td>\n",
       "      <td>SAMKOVA, Eva</td>\n",
       "      <td>CZE</td>\n",
       "      <td>Women</td>\n",
       "      <td>Snowboard Cross</td>\n",
       "      <td>Gold</td>\n",
       "    </tr>\n",
       "    <tr>\n",
       "      <th>5769</th>\n",
       "      <td>2014</td>\n",
       "      <td>Sochi</td>\n",
       "      <td>Skiing</td>\n",
       "      <td>Snowboard</td>\n",
       "      <td>TRESPEUCH, Chloe</td>\n",
       "      <td>FRA</td>\n",
       "      <td>Women</td>\n",
       "      <td>Snowboard Cross</td>\n",
       "      <td>Bronze</td>\n",
       "    </tr>\n",
       "  </tbody>\n",
       "</table>\n",
       "<p>5770 rows × 9 columns</p>\n",
       "</div>"
      ],
      "text/plain": [
       "      Year      City     Sport Discipline               Athlete Country  \\\n",
       "0     1924  Chamonix  Biathlon   Biathlon           BERTHET, G.     FRA   \n",
       "1     1924  Chamonix  Biathlon   Biathlon        MANDRILLON, C.     FRA   \n",
       "2     1924  Chamonix  Biathlon   Biathlon   MANDRILLON, Maurice     FRA   \n",
       "3     1924  Chamonix  Biathlon   Biathlon       VANDELLE, André     FRA   \n",
       "4     1924  Chamonix  Biathlon   Biathlon  AUFDENBLATTEN, Adolf     SUI   \n",
       "...    ...       ...       ...        ...                   ...     ...   \n",
       "5765  2014     Sochi    Skiing  Snowboard          JONES, Jenny     GBR   \n",
       "5766  2014     Sochi    Skiing  Snowboard       ANDERSON, Jamie     USA   \n",
       "5767  2014     Sochi    Skiing  Snowboard    MALTAIS, Dominique     CAN   \n",
       "5768  2014     Sochi    Skiing  Snowboard          SAMKOVA, Eva     CZE   \n",
       "5769  2014     Sochi    Skiing  Snowboard      TRESPEUCH, Chloe     FRA   \n",
       "\n",
       "     Gender            Event   Medal  \n",
       "0       Men  Military Patrol  Bronze  \n",
       "1       Men  Military Patrol  Bronze  \n",
       "2       Men  Military Patrol  Bronze  \n",
       "3       Men  Military Patrol  Bronze  \n",
       "4       Men  Military Patrol    Gold  \n",
       "...     ...              ...     ...  \n",
       "5765  Women       Slopestyle  Bronze  \n",
       "5766  Women       Slopestyle    Gold  \n",
       "5767  Women  Snowboard Cross  Silver  \n",
       "5768  Women  Snowboard Cross    Gold  \n",
       "5769  Women  Snowboard Cross  Bronze  \n",
       "\n",
       "[5770 rows x 9 columns]"
      ]
     },
     "execution_count": 3,
     "metadata": {},
     "output_type": "execute_result"
    }
   ],
   "source": [
    "winter"
   ]
  },
  {
   "cell_type": "code",
   "execution_count": 4,
   "id": "adb2a2ab",
   "metadata": {},
   "outputs": [
    {
     "data": {
      "text/plain": [
       "Year          0\n",
       "City          0\n",
       "Sport         0\n",
       "Discipline    0\n",
       "Athlete       0\n",
       "Country       0\n",
       "Gender        0\n",
       "Event         0\n",
       "Medal         0\n",
       "dtype: int64"
      ]
     },
     "execution_count": 4,
     "metadata": {},
     "output_type": "execute_result"
    }
   ],
   "source": [
    "winter.isnull().sum()"
   ]
  },
  {
   "cell_type": "markdown",
   "id": "f1ce099c",
   "metadata": {},
   "source": [
    "# Percentage of Male Players in the Winter Olympics -"
   ]
  },
  {
   "cell_type": "code",
   "execution_count": 5,
   "id": "485b9427",
   "metadata": {},
   "outputs": [
    {
     "data": {
      "text/plain": [
       "array(['Men', 'Women'], dtype=object)"
      ]
     },
     "execution_count": 5,
     "metadata": {},
     "output_type": "execute_result"
    }
   ],
   "source": [
    "winter['Gender'].unique()"
   ]
  },
  {
   "cell_type": "code",
   "execution_count": 6,
   "id": "a88fb74f",
   "metadata": {},
   "outputs": [
    {
     "name": "stdout",
     "output_type": "stream",
     "text": [
      "68.35355285961872\n"
     ]
    }
   ],
   "source": [
    "m=0\n",
    "w=0\n",
    "for i in winter['Gender'].values:\n",
    "    if(i=='Men'):\n",
    "        m += 1\n",
    "    else:\n",
    "        w += 1\n",
    "print((m*100)/(m+w))"
   ]
  },
  {
   "cell_type": "markdown",
   "id": "803aa759",
   "metadata": {},
   "source": [
    "# Number of Gold Medals wins in entire Winter Olympics -"
   ]
  },
  {
   "cell_type": "code",
   "execution_count": 7,
   "id": "babfae39",
   "metadata": {},
   "outputs": [
    {
     "data": {
      "text/plain": [
       "array(['Bronze', 'Gold', 'Silver'], dtype=object)"
      ]
     },
     "execution_count": 7,
     "metadata": {},
     "output_type": "execute_result"
    }
   ],
   "source": [
    "winter['Medal'].unique()"
   ]
  },
  {
   "cell_type": "code",
   "execution_count": 8,
   "id": "df681ce3",
   "metadata": {},
   "outputs": [
    {
     "name": "stdout",
     "output_type": "stream",
     "text": [
      "1921\n"
     ]
    }
   ],
   "source": [
    "g = 0\n",
    "for i in winter['Medal'].values:\n",
    "    if(i == 'Gold'):\n",
    "        g += 1\n",
    "print(g)"
   ]
  },
  {
   "cell_type": "markdown",
   "id": "5eb88707",
   "metadata": {},
   "source": [
    "# Country having most numbers of Medals -"
   ]
  },
  {
   "cell_type": "code",
   "execution_count": 9,
   "id": "c1a1b5de",
   "metadata": {},
   "outputs": [
    {
     "data": {
      "text/plain": [
       "array(['FRA', 'SUI', 'FIN', 'BEL', 'GBR', 'SWE', 'CAN', 'USA', 'AUT',\n",
       "       'NOR', 'GER', 'TCH', 'HUN', 'ITA', 'FRG', 'NED', 'URS', 'EUA',\n",
       "       'JPN', 'POL', 'PRK', 'ROU', 'GDR', 'ESP', 'LIE', 'BUL', 'YUG',\n",
       "       'EUN', 'KOR', 'CHN', 'LUX', 'NZL', 'RUS', 'UKR', 'BLR', 'AUS',\n",
       "       'SLO', 'KAZ', 'UZB', 'DEN', 'CZE', 'CRO', 'EST', 'LAT', 'SVK'],\n",
       "      dtype=object)"
      ]
     },
     "execution_count": 9,
     "metadata": {},
     "output_type": "execute_result"
    }
   ],
   "source": [
    "winter['Country'].unique()"
   ]
  },
  {
   "cell_type": "code",
   "execution_count": 10,
   "id": "f9107f39",
   "metadata": {},
   "outputs": [],
   "source": [
    "def country(name):\n",
    "    c = 0\n",
    "    for i in winter['Country'].values:\n",
    "        if(i == name):\n",
    "            c += 1\n",
    "    return c"
   ]
  },
  {
   "cell_type": "code",
   "execution_count": 11,
   "id": "a705b6d6",
   "metadata": {},
   "outputs": [],
   "source": [
    "dct = {}\n",
    "for i in winter['Country'].unique():\n",
    "    var = country(i)\n",
    "    dct[i] = var"
   ]
  },
  {
   "cell_type": "code",
   "execution_count": 12,
   "id": "7efd3cb7",
   "metadata": {},
   "outputs": [
    {
     "data": {
      "text/plain": [
       "653"
      ]
     },
     "execution_count": 12,
     "metadata": {},
     "output_type": "execute_result"
    }
   ],
   "source": [
    "max(list(dct.values()))"
   ]
  },
  {
   "cell_type": "code",
   "execution_count": 13,
   "id": "fd1caa29",
   "metadata": {},
   "outputs": [
    {
     "data": {
      "text/plain": [
       "'USA'"
      ]
     },
     "execution_count": 13,
     "metadata": {},
     "output_type": "execute_result"
    }
   ],
   "source": [
    "list(dct.keys())[list(dct.values()).index(653)]"
   ]
  },
  {
   "cell_type": "markdown",
   "id": "14bf7623",
   "metadata": {},
   "source": [
    "# Country having most numbers of Gold Medals -"
   ]
  },
  {
   "cell_type": "code",
   "execution_count": 14,
   "id": "faa10567",
   "metadata": {},
   "outputs": [],
   "source": [
    "temp = winter[winter['Medal'] == 'Gold']"
   ]
  },
  {
   "cell_type": "code",
   "execution_count": 15,
   "id": "d5901993",
   "metadata": {},
   "outputs": [],
   "source": [
    "def country(name):\n",
    "    c = 0\n",
    "    for i in temp['Country'].values:\n",
    "        if(i == name):\n",
    "            c += 1\n",
    "    return c"
   ]
  },
  {
   "cell_type": "code",
   "execution_count": 16,
   "id": "c2e1a4f2",
   "metadata": {},
   "outputs": [],
   "source": [
    "dct = {}\n",
    "for i in temp['Country'].unique():\n",
    "    var = country(i)\n",
    "    dct[i] = var"
   ]
  },
  {
   "cell_type": "code",
   "execution_count": 17,
   "id": "c4a691d4",
   "metadata": {},
   "outputs": [
    {
     "data": {
      "text/plain": [
       "315"
      ]
     },
     "execution_count": 17,
     "metadata": {},
     "output_type": "execute_result"
    }
   ],
   "source": [
    "max(list(dct.values()))"
   ]
  },
  {
   "cell_type": "code",
   "execution_count": 18,
   "id": "97515cfe",
   "metadata": {},
   "outputs": [
    {
     "data": {
      "text/plain": [
       "'CAN'"
      ]
     },
     "execution_count": 18,
     "metadata": {},
     "output_type": "execute_result"
    }
   ],
   "source": [
    "list(dct.keys())[list(dct.values()).index(315)]"
   ]
  },
  {
   "cell_type": "markdown",
   "id": "66287862",
   "metadata": {},
   "source": [
    "# Sport having most number of Gold Medals -"
   ]
  },
  {
   "cell_type": "code",
   "execution_count": 19,
   "id": "02b89d53",
   "metadata": {},
   "outputs": [],
   "source": [
    "def sport(name):\n",
    "    c = 0\n",
    "    for i in temp['Sport'].values:\n",
    "        if(i == name):\n",
    "            c += 1\n",
    "    return c"
   ]
  },
  {
   "cell_type": "code",
   "execution_count": 20,
   "id": "d70cefaf",
   "metadata": {},
   "outputs": [],
   "source": [
    "dct = {}\n",
    "for i in temp['Sport'].unique():\n",
    "    var = sport(i)\n",
    "    dct[i] = var"
   ]
  },
  {
   "cell_type": "code",
   "execution_count": 21,
   "id": "f866b87a",
   "metadata": {},
   "outputs": [
    {
     "data": {
      "text/plain": [
       "595"
      ]
     },
     "execution_count": 21,
     "metadata": {},
     "output_type": "execute_result"
    }
   ],
   "source": [
    "max(list(dct.values()))"
   ]
  },
  {
   "cell_type": "code",
   "execution_count": 22,
   "id": "72fda9be",
   "metadata": {},
   "outputs": [
    {
     "data": {
      "text/plain": [
       "'Skiing'"
      ]
     },
     "execution_count": 22,
     "metadata": {},
     "output_type": "execute_result"
    }
   ],
   "source": [
    "list(dct.keys())[list(dct.values()).index(595)]"
   ]
  },
  {
   "cell_type": "markdown",
   "id": "329fa2ee",
   "metadata": {},
   "source": [
    "# Top 5 Disciplines in terms of Medals -"
   ]
  },
  {
   "cell_type": "code",
   "execution_count": 23,
   "id": "6b2e3e49",
   "metadata": {},
   "outputs": [
    {
     "data": {
      "text/plain": [
       "array(['Biathlon', 'Bobsleigh', 'Curling', 'Ice Hockey', 'Figure skating',\n",
       "       'Speed skating', 'Cross Country Skiing', 'Nordic Combined',\n",
       "       'Ski Jumping', 'Skeleton', 'Alpine Skiing', 'Luge',\n",
       "       'Short Track Speed Skating', 'Freestyle Skiing', 'Snowboard'],\n",
       "      dtype=object)"
      ]
     },
     "execution_count": 23,
     "metadata": {},
     "output_type": "execute_result"
    }
   ],
   "source": [
    "winter['Discipline'].unique()"
   ]
  },
  {
   "cell_type": "code",
   "execution_count": 24,
   "id": "8caa18d8",
   "metadata": {},
   "outputs": [],
   "source": [
    "def discipline(name):\n",
    "    c = 0\n",
    "    for i in winter['Discipline'].values:\n",
    "        if(i == name):\n",
    "            c += 1\n",
    "    return c"
   ]
  },
  {
   "cell_type": "code",
   "execution_count": 25,
   "id": "e53ada80",
   "metadata": {},
   "outputs": [],
   "source": [
    "dct = {}\n",
    "for i in winter['Discipline'].unique():\n",
    "    var = discipline(i)\n",
    "    dct[i] = var"
   ]
  },
  {
   "cell_type": "code",
   "execution_count": 26,
   "id": "87c24993",
   "metadata": {},
   "outputs": [],
   "source": [
    "import operator"
   ]
  },
  {
   "cell_type": "code",
   "execution_count": 27,
   "id": "a996b077",
   "metadata": {},
   "outputs": [],
   "source": [
    "dct_1 = dict(sorted(dct.items(), key=operator.itemgetter(1),reverse=True))"
   ]
  },
  {
   "cell_type": "code",
   "execution_count": 28,
   "id": "3327caf7",
   "metadata": {},
   "outputs": [
    {
     "data": {
      "text/plain": [
       "['Ice Hockey',\n",
       " 'Cross Country Skiing',\n",
       " 'Speed skating',\n",
       " 'Alpine Skiing',\n",
       " 'Bobsleigh']"
      ]
     },
     "execution_count": 28,
     "metadata": {},
     "output_type": "execute_result"
    }
   ],
   "source": [
    "list(dct_1.keys())[:5]"
   ]
  },
  {
   "cell_type": "markdown",
   "id": "90db7c04",
   "metadata": {},
   "source": [
    "# Top 5 Disciplines in terms of Bronze Medals -¶"
   ]
  },
  {
   "cell_type": "code",
   "execution_count": 29,
   "id": "90411ccc",
   "metadata": {},
   "outputs": [],
   "source": [
    "temp = winter[winter['Medal'] == 'Bronze']"
   ]
  },
  {
   "cell_type": "code",
   "execution_count": 30,
   "id": "6b365037",
   "metadata": {},
   "outputs": [],
   "source": [
    "def discipline(name):\n",
    "    c = 0\n",
    "    for i in temp['Discipline'].values:\n",
    "        if(i == name):\n",
    "            c += 1\n",
    "    return c"
   ]
  },
  {
   "cell_type": "code",
   "execution_count": 31,
   "id": "60aeff1d",
   "metadata": {},
   "outputs": [],
   "source": [
    "dct = {}\n",
    "for i in temp['Discipline'].unique():\n",
    "    var = discipline(i)\n",
    "    dct[i] = var"
   ]
  },
  {
   "cell_type": "code",
   "execution_count": 32,
   "id": "bc5f815d",
   "metadata": {},
   "outputs": [],
   "source": [
    "dct_2 = dict(sorted(dct.items(), key=operator.itemgetter(1),reverse=True))"
   ]
  },
  {
   "cell_type": "code",
   "execution_count": 33,
   "id": "cfe19ce8",
   "metadata": {},
   "outputs": [
    {
     "data": {
      "text/plain": [
       "['Ice Hockey',\n",
       " 'Cross Country Skiing',\n",
       " 'Speed skating',\n",
       " 'Bobsleigh',\n",
       " 'Alpine Skiing']"
      ]
     },
     "execution_count": 33,
     "metadata": {},
     "output_type": "execute_result"
    }
   ],
   "source": [
    "list(dct_2.keys())[:5]"
   ]
  },
  {
   "cell_type": "markdown",
   "id": "15b36f6b",
   "metadata": {},
   "source": [
    "# Players that have won atleast one medal in Winter Olympics -"
   ]
  },
  {
   "cell_type": "code",
   "execution_count": 34,
   "id": "2531f6c4",
   "metadata": {},
   "outputs": [
    {
     "data": {
      "text/plain": [
       "3761"
      ]
     },
     "execution_count": 34,
     "metadata": {},
     "output_type": "execute_result"
    }
   ],
   "source": [
    "len(list(winter['Athlete'].unique()))"
   ]
  },
  {
   "cell_type": "code",
   "execution_count": null,
   "id": "a1e373ba",
   "metadata": {},
   "outputs": [],
   "source": []
  }
 ],
 "metadata": {
  "kernelspec": {
   "display_name": "Python 3",
   "language": "python",
   "name": "python3"
  },
  "language_info": {
   "codemirror_mode": {
    "name": "ipython",
    "version": 3
   },
   "file_extension": ".py",
   "mimetype": "text/x-python",
   "name": "python",
   "nbconvert_exporter": "python",
   "pygments_lexer": "ipython3",
   "version": "3.8.8"
  }
 },
 "nbformat": 4,
 "nbformat_minor": 5
}
